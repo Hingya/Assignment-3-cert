{
 "cells": [
  {
   "cell_type": "markdown",
   "id": "24286d40",
   "metadata": {},
   "source": [
    "## Q.1 itertools.product()."
   ]
  },
  {
   "cell_type": "code",
   "execution_count": 1,
   "id": "6e531980",
   "metadata": {},
   "outputs": [
    {
     "name": "stdout",
     "output_type": "stream",
     "text": [
      "1 2 \n",
      "3 4 \n",
      "(1, 3) (1, 4) (2, 3) (2, 4) "
     ]
    }
   ],
   "source": [
    "list1=list(map(int, input().split()))\n",
    "list2=list(map(int, input().split()))\n",
    "for i in list1:\n",
    "    for j in list2:\n",
    "        print((i,j),end=\" \")"
   ]
  },
  {
   "cell_type": "markdown",
   "id": "cfa100f6",
   "metadata": {},
   "source": [
    "## Q.2 itertools.combinations()"
   ]
  },
  {
   "cell_type": "code",
   "execution_count": 2,
   "id": "59b550c8",
   "metadata": {},
   "outputs": [
    {
     "name": "stdout",
     "output_type": "stream",
     "text": [
      "hack 2\n",
      "a\n",
      "c\n",
      "h\n",
      "k\n",
      "ac\n",
      "ah\n",
      "ak\n",
      "ch\n",
      "ck\n",
      "hk\n"
     ]
    }
   ],
   "source": [
    "import itertools\n",
    "sk = input().split()\n",
    "s = sk[0]\n",
    "k = int(sk[1])\n",
    "for i in range(1, k +1 ):\n",
    "    output = list(itertools.combinations(sorted(s),i))\n",
    "    for m in output:\n",
    "        for n in m:\n",
    "            print(n, end=\"\")\n",
    "        print()"
   ]
  },
  {
   "cell_type": "markdown",
   "id": "f0f90a21",
   "metadata": {},
   "source": [
    "## Q.3 itertools.permutations(iterable[, r])."
   ]
  },
  {
   "cell_type": "code",
   "execution_count": 4,
   "id": "9937806b",
   "metadata": {},
   "outputs": [
    {
     "name": "stdout",
     "output_type": "stream",
     "text": [
      "HACK 2\n",
      "AC\n",
      "AH\n",
      "AK\n",
      "CA\n",
      "CH\n",
      "CK\n",
      "HA\n",
      "HC\n",
      "HK\n",
      "KA\n",
      "KC\n",
      "KH\n"
     ]
    }
   ],
   "source": [
    "from itertools import permutations\n",
    "s, n=input().split(' ')\n",
    "for i in list(permutations(sorted(s),int(n))):\n",
    "    print(''.join(i))"
   ]
  },
  {
   "cell_type": "code",
   "execution_count": null,
   "id": "37476bb6",
   "metadata": {},
   "outputs": [],
   "source": []
  }
 ],
 "metadata": {
  "kernelspec": {
   "display_name": "Python 3 (ipykernel)",
   "language": "python",
   "name": "python3"
  },
  "language_info": {
   "codemirror_mode": {
    "name": "ipython",
    "version": 3
   },
   "file_extension": ".py",
   "mimetype": "text/x-python",
   "name": "python",
   "nbconvert_exporter": "python",
   "pygments_lexer": "ipython3",
   "version": "3.10.1"
  }
 },
 "nbformat": 4,
 "nbformat_minor": 5
}
